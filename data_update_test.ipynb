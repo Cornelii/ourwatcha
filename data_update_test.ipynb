{
 "cells": [
  {
   "cell_type": "code",
   "execution_count": 1,
   "metadata": {},
   "outputs": [],
   "source": [
    "import os, django\n",
    "os.environ.setdefault('DJANGO_SETTINGS_MODULE', 'final.settings')\n",
    "django.setup()\n",
    "\n",
    "from utils import *\n",
    "from utils import Data\n",
    "\n",
    "# importing models\n",
    "from movies.models import Movie, Genre\n",
    "from people.models import Director, Actor, Staff, Role\n",
    "\n",
    "NAVER_ID = os.getenv('NAVER_CLOVA_ID')\n",
    "NAVER_SECRET =os.getenv('NAVER_CLOVA_SECRET')\n",
    "MOVIE_KEY = os.getenv('MOVIE_KEY')"
   ]
  },
  {
   "cell_type": "code",
   "execution_count": 2,
   "metadata": {},
   "outputs": [],
   "source": [
    "data = Data(**{\n",
    "    'API_KEY': MOVIE_KEY,\n",
    "    'NAVER_ID': NAVER_ID,\n",
    "    'NAVER_SECRET': NAVER_SECRET,\n",
    "    })\n",
    "\n",
    "## get movie_list\n",
    "movie_list_query = {\n",
    "    'itemPerPage': 100,\n",
    "    'openStartDt': 2019,\n",
    "    'openEndDt': 2020,\n",
    "}\n",
    "\n",
    "movie_list = data.get_movie_list(5, **movie_list_query)"
   ]
  },
  {
   "cell_type": "code",
   "execution_count": null,
   "metadata": {},
   "outputs": [],
   "source": [
    "movie_list"
   ]
  },
  {
   "cell_type": "code",
   "execution_count": null,
   "metadata": {},
   "outputs": [],
   "source": []
  },
  {
   "cell_type": "code",
   "execution_count": null,
   "metadata": {},
   "outputs": [],
   "source": []
  },
  {
   "cell_type": "code",
   "execution_count": null,
   "metadata": {},
   "outputs": [],
   "source": []
  }
 ],
 "metadata": {
  "kernelspec": {
   "display_name": "Django Shell-Plus",
   "language": "python",
   "name": "django_extensions"
  },
  "language_info": {
   "codemirror_mode": {
    "name": "ipython",
    "version": 3
   },
   "file_extension": ".py",
   "mimetype": "text/x-python",
   "name": "python",
   "nbconvert_exporter": "python",
   "pygments_lexer": "ipython3",
   "version": "3.5.3"
  }
 },
 "nbformat": 4,
 "nbformat_minor": 2
}
